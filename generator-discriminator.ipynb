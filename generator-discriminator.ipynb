{
 "cells": [
  {
   "cell_type": "code",
   "execution_count": 1,
   "metadata": {},
   "outputs": [
    {
     "name": "stderr",
     "output_type": "stream",
     "text": [
      "[nltk_data] Downloading package stopwords to\n",
      "[nltk_data]     C:\\Users\\tatha\\AppData\\Roaming\\nltk_data...\n",
      "[nltk_data]   Package stopwords is already up-to-date!\n",
      "[nltk_data] Downloading package punkt to\n",
      "[nltk_data]     C:\\Users\\tatha\\AppData\\Roaming\\nltk_data...\n",
      "[nltk_data]   Package punkt is already up-to-date!\n",
      "[nltk_data] Downloading package wordnet to\n",
      "[nltk_data]     C:\\Users\\tatha\\AppData\\Roaming\\nltk_data...\n",
      "[nltk_data]   Package wordnet is already up-to-date!\n"
     ]
    }
   ],
   "source": [
    "import sys \n",
    "import os\n",
    "import nltk.corpus\n",
    "nltk.download('stopwords')\n",
    "nltk.download('punkt')\n",
    "nltk.download('wordnet')\n",
    "from nltk.corpus import stopwords\n",
    "from nltk.tokenize import word_tokenize\n",
    "import pandas as pd\n",
    "from matplotlib import pyplot"
   ]
  },
  {
   "cell_type": "code",
   "execution_count": 2,
   "metadata": {},
   "outputs": [],
   "source": [
    "file_path = \"D:\\\\pg\\\\classes\\\\project\\\\code\\\\\"\n",
    "#file_path = '/content/' \n",
    "sys.path.append(os.path.abspath(file_path)) \n",
    "\n",
    "data_to_keep=10000\n",
    "\n",
    "df_ed_out = pd.read_csv(file_path+'df_encoder_decoder_output.csv')\n",
    "df_ed_out.drop(df_ed_out.index[data_to_keep:len(df_ed_out.index)], axis=0, inplace=True)\n",
    "\n",
    "\n",
    "#symbols to remove\n",
    "var_symbols = [\"~\", \"!\", \"@\", \"#\", \"$\", \"%\", \"^\", \"&\", \"*\", \"(\", \n",
    "                \")\", \"_\", \"+\", \"`\", \"-\", \"=\", \"[\", \"]\", \"\\\\\", \"{\", \n",
    "                \"}\", \"|\", \";\", \"'\", \":\", '\"', \",\", \".\", \"/\", \"<\", \">\", \"?\", \"  \"]\n",
    "\n",
    "contraction_mapping = {\"ain't\": \"is not\", \"aren't\": \"are not\", \"can't\": \"cannot\", \"'cause\": \"because\", \"could've\": \"could have\", \"couldn't\": \"could not\",\n",
    "                       \"didn't\": \"did not\", \"doesn't\": \"does not\", \"don't\": \"do not\", \"hadn't\": \"had not\", \"hasn't\": \"has not\", \"haven't\": \"have not\",\n",
    "                       \"he'd\": \"he would\", \"he'll\": \"he will\", \"he's\": \"he is\", \"how'd\": \"how did\", \"how'd'y\": \"how do you\", \"how'll\": \"how will\", \"how's\": \"how is\",\n",
    "                       \"I'd\": \"I would\", \"I'd've\": \"I would have\", \"I'll\": \"I will\", \"I'll've\": \"I will have\", \"I'm\": \"I am\", \"I've\": \"I have\", \"i'd\": \"i would\",\n",
    "                       \"i'd've\": \"i would have\", \"i'll\": \"i will\",  \"i'll've\": \"i will have\", \"i'm\": \"i am\", \"i've\": \"i have\", \"isn't\": \"is not\", \"it'd\": \"it would\",\n",
    "                       \"it'd've\": \"it would have\", \"it'll\": \"it will\", \"it'll've\": \"it will have\", \"it's\": \"it is\", \"let's\": \"let us\", \"ma'am\": \"madam\",\n",
    "                       \"mayn't\": \"may not\", \"might've\": \"might have\", \"mightn't\": \"might not\", \"mightn't've\": \"might not have\", \"must've\": \"must have\",\n",
    "                       \"mustn't\": \"must not\", \"mustn't've\": \"must not have\", \"needn't\": \"need not\", \"needn't've\": \"need not have\", \"o'clock\": \"of the clock\",\n",
    "                       \"oughtn't\": \"ought not\", \"oughtn't've\": \"ought not have\", \"shan't\": \"shall not\", \"sha'n't\": \"shall not\", \"shan't've\": \"shall not have\",\n",
    "                       \"she'd\": \"she would\", \"she'd've\": \"she would have\", \"she'll\": \"she will\", \"she'll've\": \"she will have\", \"she's\": \"she is\",\n",
    "                       \"should've\": \"should have\", \"shouldn't\": \"should not\", \"shouldn't've\": \"should not have\", \"so've\": \"so have\", \"so's\": \"so as\",\n",
    "                       \"this's\": \"this is\", \"that'd\": \"that would\", \"that'd've\": \"that would have\", \"that's\": \"that is\", \"there'd\": \"there would\",\n",
    "                       \"there'd've\": \"there would have\", \"there's\": \"there is\", \"here's\": \"here is\", \"they'd\": \"they would\", \"they'd've\": \"they would have\",\n",
    "                       \"they'll\": \"they will\", \"they'll've\": \"they will have\", \"they're\": \"they are\", \"they've\": \"they have\", \"to've\": \"to have\",\n",
    "                       \"wasn't\": \"was not\", \"we'd\": \"we would\", \"we'd've\": \"we would have\", \"we'll\": \"we will\", \"we'll've\": \"we will have\", \"we're\": \"we are\",\n",
    "                       \"we've\": \"we have\", \"weren't\": \"were not\", \"what'll\": \"what will\", \"what'll've\": \"what will have\", \"what're\": \"what are\",\n",
    "                       \"what's\": \"what is\", \"what've\": \"what have\", \"when's\": \"when is\", \"when've\": \"when have\", \"where'd\": \"where did\", \"where's\": \"where is\",\n",
    "                       \"where've\": \"where have\", \"who'll\": \"who will\", \"who'll've\": \"who will have\", \"who's\": \"who is\", \"who've\": \"who have\",\n",
    "                       \"why's\": \"why is\", \"why've\": \"why have\", \"will've\": \"will have\", \"won't\": \"will not\", \"won't've\": \"will not have\",\n",
    "                       \"would've\": \"would have\", \"wouldn't\": \"would not\", \"wouldn't've\": \"would not have\", \"y'all\": \"you all\",\n",
    "                       \"y'all'd\": \"you all would\", \"y'all'd've\": \"you all would have\", \"y'all're\": \"you all are\", \"y'all've\": \"you all have\",\n",
    "                       \"you'd\": \"you would\", \"you'd've\": \"you would have\", \"you'll\": \"you will\", \"you'll've\": \"you will have\",\n",
    "                       \"you're\": \"you are\", \"you've\": \"you have\"}\n",
    "\n",
    "stop_words = set(stopwords.words('english'))\n",
    "\n",
    "#declare dataframes to store cleaned data\n",
    "df_ed_out_cleaned = pd.DataFrame()\n",
    "\n",
    "for index, row in df_ed_out.iterrows():\n",
    "    var_type=row.loc['Type']\n",
    "    var_plot=row.loc['Plot']\n",
    "    var_osummary=row.loc['Original_summary']\n",
    "    var_psummary=row.loc['Predicted_summary']\n",
    "    var_tmp_osummary=var_osummary\n",
    "    var_tmp_psummary=var_psummary\n",
    "    var_tmp_plot=var_plot\n",
    "    for iter2 in var_symbols:\n",
    "        var_tmp_osummary = str(var_tmp_osummary).replace(iter2, ' ').lower()\n",
    "        var_tmp_psummary = str(var_tmp_psummary).replace(iter2, ' ').lower()\n",
    "        var_tmp_plot = str(var_tmp_plot).replace(iter2, ' ').lower()\n",
    "    \n",
    "    var_tmp_plot = ' '.join([contraction_mapping[t] if t in contraction_mapping else t for t in var_tmp_plot.split(\" \")])\n",
    "    var_tmp_osummary = ' '.join([contraction_mapping[t] if t in contraction_mapping else t for t in var_tmp_osummary.split(\" \")])\n",
    "    var_tmp_psummary = ' '.join([contraction_mapping[t] if t in contraction_mapping else t for t in var_tmp_psummary.split(\" \")])\n",
    "\n",
    "    plot_tokens = word_tokenize(var_tmp_plot)\n",
    "    var_plot_cleaned = ''\n",
    "    for w in plot_tokens:\n",
    "        if w not in stop_words:\n",
    "            var_plot_cleaned+=w+' '\n",
    "\n",
    "    osummary_tokens = word_tokenize(var_tmp_osummary)\n",
    "    var_osummary_cleaned = ''\n",
    "    for w in osummary_tokens:\n",
    "        if w not in stop_words:\n",
    "            var_osummary_cleaned+=w+' '\n",
    "\n",
    "    psummary_tokens = word_tokenize(var_tmp_psummary)\n",
    "    var_psummary_cleaned = ''\n",
    "    for w in psummary_tokens:\n",
    "        if w not in stop_words:\n",
    "            var_psummary_cleaned+=w+' '\n",
    "    \n",
    "    plot_tokens = word_tokenize(var_plot_cleaned)\n",
    "    osummary_tokens = word_tokenize(var_osummary_cleaned)\n",
    "    psummary_tokens = word_tokenize(var_psummary_cleaned)\n",
    "    \n",
    "    new_row = {'var_type':var_type, 'plot_tokens':plot_tokens, 'osummary_tokens':osummary_tokens, 'psummary_tokens':psummary_tokens}\n",
    "    df_ed_out_cleaned = pd.concat([df_ed_out_cleaned, pd.DataFrame([new_row])], ignore_index=True)"
   ]
  },
  {
   "cell_type": "code",
   "execution_count": 3,
   "metadata": {},
   "outputs": [],
   "source": [
    "from statistics import mode\n",
    "plot_word_count = []\n",
    "osummary_word_count = []\n",
    "psummary_word_count = []\n",
    "\n",
    "# populate the lists with sentence lengths\n",
    "for i in df_ed_out_cleaned['plot_tokens']:\n",
    "      plot_word_count.append(len(i))\n",
    "\n",
    "for i in df_ed_out_cleaned['osummary_tokens']:\n",
    "      osummary_word_count.append(len(i))\n",
    "\n",
    "for i in df_ed_out_cleaned['psummary_tokens']:\n",
    "      psummary_word_count.append(len(i))\n",
    "\n",
    "max_len_plot=mode(plot_word_count) \n",
    "max_len_osummary=mode(osummary_word_count)\n",
    "max_len_psummary=mode(psummary_word_count)"
   ]
  },
  {
   "cell_type": "code",
   "execution_count": 4,
   "metadata": {},
   "outputs": [
    {
     "data": {
      "text/plain": [
       "28"
      ]
     },
     "execution_count": 4,
     "metadata": {},
     "output_type": "execute_result"
    }
   ],
   "source": [
    "max_len_plot"
   ]
  },
  {
   "cell_type": "code",
   "execution_count": 5,
   "metadata": {},
   "outputs": [
    {
     "data": {
      "image/png": "[encoded data removed]",
      "text/plain": [
       "<Figure size 1800x1000 with 1 Axes>"
      ]
     },
     "metadata": {},
     "output_type": "display_data"
    }
   ],
   "source": [
    "pyplot.figure(figsize=(18,10))\n",
    "pyplot.hist(plot_word_count, bins=100, label='Plot')\n",
    "pyplot.title('Distribution Plot Word Count')\n",
    "pyplot.xlabel('Value')\n",
    "pyplot.ylabel('Frequency')\n",
    "pyplot.legend()\n",
    "pyplot.grid()\n",
    "pyplot.show()\n"
   ]
  },
  {
   "cell_type": "code",
   "execution_count": 6,
   "metadata": {},
   "outputs": [
    {
     "data": {
      "text/plain": [
       "6"
      ]
     },
     "execution_count": 6,
     "metadata": {},
     "output_type": "execute_result"
    }
   ],
   "source": [
    "max_len_osummary"
   ]
  },
  {
   "cell_type": "code",
   "execution_count": 7,
   "metadata": {},
   "outputs": [
    {
     "data": {
      "text/plain": [
       "5"
      ]
     },
     "execution_count": 7,
     "metadata": {},
     "output_type": "execute_result"
    }
   ],
   "source": [
    "max_len_psummary"
   ]
  },
  {
   "cell_type": "code",
   "execution_count": 8,
   "metadata": {},
   "outputs": [
    {
     "data": {
      "image/png": "[encoded data removed]",
      "text/plain": [
       "<Figure size 1800x1000 with 1 Axes>"
      ]
     },
     "metadata": {},
     "output_type": "display_data"
    }
   ],
   "source": [
    "pyplot.figure(figsize=(18,10))\n",
    "pyplot.hist(osummary_word_count, bins=100, label='Original Summary')\n",
    "pyplot.hist(psummary_word_count, bins=100, label='Predicted Summary')\n",
    "pyplot.title('Summary Word Count')\n",
    "pyplot.xlabel('Value')\n",
    "pyplot.ylabel('Frequency')\n",
    "pyplot.legend()\n",
    "pyplot.grid()\n",
    "pyplot.show()"
   ]
  },
  {
   "cell_type": "code",
   "execution_count": 9,
   "metadata": {},
   "outputs": [],
   "source": [
    "from sklearn.model_selection import train_test_split\n",
    "\n",
    "data_test_size=0.3\n",
    "\n",
    "psummary_tr,psummary_val,osummary_tr,osummary_val=train_test_split(df_ed_out_cleaned['psummary_tokens'],df_ed_out_cleaned['osummary_tokens'],\n",
    "                                        test_size=data_test_size,random_state=0,shuffle=True)"
   ]
  },
  {
   "cell_type": "code",
   "execution_count": 10,
   "metadata": {},
   "outputs": [],
   "source": [
    "from keras.preprocessing.text import Tokenizer \n",
    "from keras.utils import pad_sequences\n",
    "x_tokenizer = Tokenizer()\n",
    "x_tokenizer.fit_on_texts(list(psummary_tr))\n",
    "psummary_tr    =   x_tokenizer.texts_to_sequences(psummary_tr) \n",
    "psummary_val   =   x_tokenizer.texts_to_sequences(psummary_val)\n",
    "psummary_tr    =   pad_sequences(psummary_tr,  maxlen=max_len_psummary, padding='post') \n",
    "psummary_val   =   pad_sequences(psummary_val, maxlen=max_len_psummary, padding='post')\n",
    "psummary_voc_size   =  len(x_tokenizer.word_index) +1"
   ]
  },
  {
   "cell_type": "code",
   "execution_count": 11,
   "metadata": {},
   "outputs": [],
   "source": [
    "y_tokenizer = Tokenizer()\n",
    "y_tokenizer.fit_on_texts(list(osummary_tr))\n",
    "osummary_tr    =   y_tokenizer.texts_to_sequences(osummary_tr) \n",
    "osummary_val   =   y_tokenizer.texts_to_sequences(osummary_val)\n",
    "osummary_tr    =   pad_sequences(osummary_tr,  maxlen=max_len_osummary, padding='post') \n",
    "osummary_val   =   pad_sequences(osummary_val, maxlen=max_len_osummary, padding='post')\n",
    "osummary_voc_size   =  len(y_tokenizer.word_index) +1"
   ]
  },
  {
   "cell_type": "code",
   "execution_count": 12,
   "metadata": {},
   "outputs": [],
   "source": [
    "var_type = df_ed_out_cleaned['var_type']\n",
    "\n",
    "plot_tokens = df_ed_out_cleaned['plot_tokens']\n",
    "plot_tokenizer = Tokenizer()\n",
    "plot_tokenizer.fit_on_texts(list(plot_tokens))\n",
    "plot_tokens    =   plot_tokenizer.texts_to_sequences(plot_tokens)\n",
    "plot_tokens    =   pad_sequences(plot_tokens,  maxlen=max_len_plot, padding='post') \n",
    "plot_tokens_voc_size   =  len(plot_tokenizer.word_index) +1\n",
    "reverse_plot_tokens_word_index=plot_tokenizer.index_word\n",
    "plot_tokens_word_index=plot_tokenizer.word_index\n",
    "\n",
    "psummary_tokens = df_ed_out_cleaned['psummary_tokens']\n",
    "psummary_tokenizer = Tokenizer()\n",
    "psummary_tokenizer.fit_on_texts(list(psummary_tokens))\n",
    "psummary_tokens    =   psummary_tokenizer.texts_to_sequences(psummary_tokens)\n",
    "psummary_tokens    =   pad_sequences(psummary_tokens,  maxlen=max_len_psummary, padding='post') \n",
    "psummary_tokens_voc_size   =  len(psummary_tokenizer.word_index) +1\n",
    "reverse_psummary_tokens_word_index=psummary_tokenizer.index_word\n",
    "psummary_tokens_word_index=psummary_tokenizer.word_index\n",
    "\n",
    "osummary_tokens = df_ed_out_cleaned['osummary_tokens']\n",
    "osummary_tokenizer = Tokenizer()\n",
    "osummary_tokenizer.fit_on_texts(list(osummary_tokens))\n",
    "osummary_tokens    =   osummary_tokenizer.texts_to_sequences(osummary_tokens)\n",
    "osummary_tokens    =   pad_sequences(osummary_tokens,  maxlen=max_len_osummary, padding='post') \n",
    "osummary_tokens_voc_size   =  len(osummary_tokenizer.word_index) +1\n",
    "reverse_osummary_tokens_word_index=osummary_tokenizer.index_word\n",
    "osummary_tokens_word_index=osummary_tokenizer.word_index"
   ]
  },
  {
   "cell_type": "code",
   "execution_count": 13,
   "metadata": {},
   "outputs": [],
   "source": [
    "import torch\n",
    "import torch.nn as nn\n",
    "import torch.optim as optim\n",
    "import time\n",
    "\n",
    "vocab_size = plot_tokens_voc_size\n",
    "#embed_size = 100\n",
    "#hidden_size = 256\n",
    "embed_size = int(min(500, vocab_size/2)/2)\n",
    "hidden_size = embed_size*2\n",
    "num_layers = 2\n",
    "batch_size = 30\n",
    "epochs = batch_size*2\n",
    "learning_rate = 0.001\n",
    "early_stopping_rounds = 3\n",
    "gdropout=0.5"
   ]
  },
  {
   "cell_type": "code",
   "execution_count": 14,
   "metadata": {},
   "outputs": [
    {
     "data": {
      "text/plain": [
       "18182"
      ]
     },
     "execution_count": 14,
     "metadata": {},
     "output_type": "execute_result"
    }
   ],
   "source": [
    "plot_tokens_voc_size"
   ]
  },
  {
   "cell_type": "code",
   "execution_count": 15,
   "metadata": {},
   "outputs": [
    {
     "data": {
      "text/plain": [
       "250"
      ]
     },
     "execution_count": 15,
     "metadata": {},
     "output_type": "execute_result"
    }
   ],
   "source": [
    "embed_size"
   ]
  },
  {
   "cell_type": "code",
   "execution_count": 16,
   "metadata": {},
   "outputs": [],
   "source": [
    "# Define the Generator\n",
    "class Generator(nn.Module):\n",
    "    def __init__(self, vocab_size, embed_size, hidden_size, num_layers, dropout=gdropout):\n",
    "        super(Generator, self).__init__()\n",
    "        self.embedding = nn.Embedding(vocab_size, embed_size)\n",
    "        self.rnn = nn.LSTM(embed_size, hidden_size, num_layers, batch_first=True)\n",
    "        self.fc = nn.Linear(hidden_size, vocab_size)\n",
    "        self.dropout = nn.Dropout(dropout)\n",
    "        \n",
    "    def forward(self, x, h):\n",
    "        x = self.embedding(x)\n",
    "        output, h = self.rnn(x, h)\n",
    "        output = self.fc(self.dropout(output))\n",
    "        output = torch.sigmoid(output)\n",
    "        return output, h"
   ]
  },
  {
   "cell_type": "code",
   "execution_count": 17,
   "metadata": {},
   "outputs": [
    {
     "data": {
      "image/png": "[encoded data removed]",
      "text/plain": [
       "<Figure size 1800x1000 with 1 Axes>"
      ]
     },
     "metadata": {},
     "output_type": "display_data"
    }
   ],
   "source": [
    "import networkx as nx\n",
    "\n",
    "# Create a directed graph\n",
    "G = nx.DiGraph()\n",
    "\n",
    "# Add nodes with their descriptions\n",
    "nodes = {\n",
    "    'input': 'Input',\n",
    "    'embedding': 'Embedding Layer',\n",
    "    'lstm': 'LSTM Layer',\n",
    "    'dropout': 'Dropout',\n",
    "    'fc': 'Fully Connected Layer',\n",
    "    'sigmoid': 'Sigmoid Activation',\n",
    "    'output': 'Output'\n",
    "}\n",
    "\n",
    "for node, description in nodes.items():\n",
    "    G.add_node(node, description=description)\n",
    "\n",
    "# Define the edges and the order they connect the nodes\n",
    "edges = [('input', 'embedding'),\n",
    "         ('embedding', 'lstm'),\n",
    "         ('lstm', 'dropout'),\n",
    "         ('dropout', 'fc'),\n",
    "         ('fc', 'sigmoid'),\n",
    "         ('sigmoid', 'output')]\n",
    "\n",
    "G.add_edges_from(edges)\n",
    "\n",
    "# Draw the network architecture\n",
    "pos = nx.spring_layout(G)\n",
    "pyplot.figure(figsize=(18,10))\n",
    "\n",
    "# Draw nodes\n",
    "nx.draw_networkx_nodes(G, pos, node_color='skyblue', node_size=3000)\n",
    "\n",
    "# Draw edges\n",
    "nx.draw_networkx_edges(G, pos)\n",
    "\n",
    "# Draw node labels\n",
    "nx.draw_networkx_labels(G, pos, labels=nx.get_node_attributes(G, 'description'), font_size=10)\n",
    "\n",
    "pyplot.title(\"Generator Model Architecture\")\n",
    "pyplot.axis('on')\n",
    "pyplot.tight_layout()\n",
    "pyplot.show()\n"
   ]
  },
  {
   "cell_type": "code",
   "execution_count": 30,
   "metadata": {},
   "outputs": [],
   "source": [
    "generator = Generator(vocab_size, embed_size, hidden_size, num_layers)\n",
    "g_optimizer = optim.Adam(generator.parameters(), lr=learning_rate)\n",
    "g_criterion = nn.CrossEntropyLoss()"
   ]
  },
  {
   "cell_type": "code",
   "execution_count": 31,
   "metadata": {},
   "outputs": [],
   "source": [
    "PRETRAIN=True"
   ]
  },
  {
   "cell_type": "markdown",
   "metadata": {},
   "source": [
    "START >> below section used to pretrain the generator (if needed)"
   ]
  },
  {
   "cell_type": "code",
   "execution_count": 32,
   "metadata": {},
   "outputs": [
    {
     "name": "stdout",
     "output_type": "stream",
     "text": [
      "Training: Epoch 1/60, Average-G-Loss: 9.193771464192968, Duration: 0.13708829879760742\n",
      "Testing: Epoch 1/60, Average-G-Loss: 9.053260660171508, Duration: 0.05559229850769043\n",
      "Training: Epoch 2/60, Average-G-Loss: 9.077418914208046, Duration: 0.1321702003479004\n",
      "Testing: Epoch 2/60, Average-G-Loss: 9.031712427139283, Duration: 0.04627823829650879\n",
      "Training: Epoch 3/60, Average-G-Loss: 9.061186060946213, Duration: 0.1374368667602539\n",
      "Testing: Epoch 3/60, Average-G-Loss: 9.025313234329223, Duration: 0.05408287048339844\n",
      "Training: Epoch 4/60, Average-G-Loss: 9.054016810197096, Duration: 0.14176082611083984\n",
      "Testing: Epoch 4/60, Average-G-Loss: 9.021032886505127, Duration: 0.06397604942321777\n",
      "Training: Epoch 5/60, Average-G-Loss: 9.050149159553724, Duration: 0.14270353317260742\n",
      "Testing: Epoch 5/60, Average-G-Loss: 9.018286247253418, Duration: 0.05385231971740723\n"
     ]
    }
   ],
   "source": [
    "if PRETRAIN:\n",
    "    average_tr_loss_count = []\n",
    "    internal_tr_loss_count = []\n",
    "    internal_val_loss_count = []\n",
    "    average_val_loss_count = []\n",
    "    def pretrain_generator(generator, psummary_tr, psummary_val, optimizer, pretrain_epochs, num_layers, hidden_size, batch_size):\n",
    "        psummary_tr=torch.tensor(psummary_tr)\n",
    "        psummary_tr=torch.split(psummary_tr, batch_size, dim=0)\n",
    "        \n",
    "        psummary_val = torch.tensor(psummary_val)\n",
    "        psummary_val = torch.split(psummary_val, batch_size, dim=0)\n",
    "        \n",
    "        h_0 = torch.zeros(num_layers, max_len_psummary, hidden_size)\n",
    "        c_0 = torch.zeros(num_layers, max_len_psummary, hidden_size)\n",
    "        hidden = (h_0, c_0)\n",
    "        \n",
    "        best_val_loss = float('inf')\n",
    "        rounds_without_improvement = 0\n",
    "        for epoch in range(pretrain_epochs):\n",
    "            total_loss = 0\n",
    "            internal_tr_loss_count.append([])\n",
    "            generator.train()\n",
    "            for plot_tensor in psummary_tr:  # Iterate over tensor batches only\n",
    "                tstart = time.time()\n",
    "                plot_tensor = plot_tensor.squeeze()  # Reshape plot_tensor to (seq_len,)\n",
    "                plot_tensor = plot_tensor.permute(1, 0)  # Reshape plot_tensor to (seq_len, batch_size)\n",
    "                optimizer.zero_grad()\n",
    "                output, _ = generator(plot_tensor, hidden)\n",
    "                loss = g_criterion(output.reshape(-1, vocab_size), plot_tensor.reshape(-1).long())\n",
    "                loss.backward()\n",
    "                optimizer.step()\n",
    "                total_loss += loss.item()\n",
    "                internal_tr_loss_count[epoch].append(loss.item())\n",
    "                tend = time.time()\n",
    "            avg_tr_loss = total_loss / len(psummary_tr)\n",
    "            print(f\"Training: Epoch {epoch + 1}/{pretrain_epochs}, Average-G-Loss: {avg_tr_loss}, Duration: {tend - tstart}\")\n",
    "            average_tr_loss_count.append(avg_tr_loss)\n",
    "\n",
    "            # Validation phase\n",
    "            generator.eval()  # set the model to evaluation mode\n",
    "            total_val_loss = 0\n",
    "            internal_val_loss_count.append([])\n",
    "            with torch.no_grad():  # do not calculate gradients\n",
    "                for plot_tensor in psummary_val:\n",
    "                    tstart = time.time()\n",
    "                    plot_tensor = plot_tensor.squeeze()\n",
    "                    plot_tensor = plot_tensor.permute(1, 0)\n",
    "                    output, _ = generator(plot_tensor, hidden)\n",
    "                    val_loss = g_criterion(output.reshape(-1, vocab_size), plot_tensor.reshape(-1).long())\n",
    "                    total_val_loss += val_loss.item()\n",
    "                    tend = time.time()\n",
    "                    internal_val_loss_count[epoch].append(val_loss.item())\n",
    "                avg_val_loss = total_val_loss / len(psummary_val)\n",
    "                print(f\"Testing: Epoch {epoch + 1}/{pretrain_epochs}, Average-G-Loss: {avg_val_loss}, Duration: {tend - tstart}\")\n",
    "                average_val_loss_count.append(avg_val_loss)\n",
    "\n",
    "            # Early stopping check\n",
    "            if avg_val_loss < best_val_loss:\n",
    "                best_val_loss = avg_val_loss\n",
    "                rounds_without_improvement = 0\n",
    "            else:\n",
    "                rounds_without_improvement += 1\n",
    "\n",
    "            if rounds_without_improvement == early_stopping_rounds:\n",
    "                print(\"Early stopping triggered\")\n",
    "                break\n",
    "\n",
    "    # Pretrain the Generator\n",
    "    pretrain_generator(generator, psummary_tr, psummary_val, g_optimizer, epochs, num_layers, hidden_size, batch_size)"
   ]
  },
  {
   "cell_type": "code",
   "execution_count": null,
   "metadata": {},
   "outputs": [],
   "source": [
    "# if PRETRAIN:\n",
    "#     counter=0\n",
    "#     total=0\n",
    "#     for i in internal_tr_loss_count:\n",
    "#         for j in i:\n",
    "#             total+=j\n",
    "#             counter+=1\n",
    "\n",
    "#     print('internal_tr_loss_count: '+str(total/counter))"
   ]
  },
  {
   "cell_type": "code",
   "execution_count": null,
   "metadata": {},
   "outputs": [],
   "source": [
    "# if PRETRAIN:\n",
    "#     counter=0\n",
    "#     total=0\n",
    "#     for i in internal_tr_loss_count:\n",
    "#         for j in i:\n",
    "#             total+=j\n",
    "#             counter+=1\n",
    "\n",
    "#     print('internal_val_loss_count: '+str(total/counter))"
   ]
  },
  {
   "cell_type": "code",
   "execution_count": null,
   "metadata": {},
   "outputs": [],
   "source": [
    "if PRETRAIN:\n",
    "    counter=0\n",
    "    total=0\n",
    "    for i in average_tr_loss_count:\n",
    "        total+=i\n",
    "        counter+=1\n",
    "\n",
    "    print('average_tr_loss_count: '+str(total/counter))"
   ]
  },
  {
   "cell_type": "code",
   "execution_count": null,
   "metadata": {},
   "outputs": [],
   "source": [
    "if PRETRAIN:\n",
    "    counter=0\n",
    "    total=0\n",
    "    for i in average_val_loss_count:\n",
    "        total+=i\n",
    "        counter+=1\n",
    "\n",
    "    print('average_val_loss_count: '+str(total/counter))"
   ]
  },
  {
   "cell_type": "code",
   "execution_count": null,
   "metadata": {},
   "outputs": [],
   "source": [
    "if PRETRAIN:\n",
    "    pyplot.figure(figsize=(18,10))\n",
    "    pyplot.plot(average_tr_loss_count, color='orange', label='Average Training Loss')\n",
    "    pyplot.plot(average_val_loss_count, color='royalblue', label='Average Validation Loss')\n",
    "    pyplot.title(\"Average Loss\")\n",
    "    pyplot.xlabel(\"Pretraining Epochs\")\n",
    "    pyplot.ylabel(\"Loss\")\n",
    "    pyplot.legend()\n",
    "    pyplot.grid()\n",
    "    pyplot.show()\n",
    "\n",
    "    pyplot.figure(figsize=(18,10))\n",
    "    pyplot.plot(internal_tr_loss_count, color='orange', label='Internal Training Loss')\n",
    "    pyplot.plot(internal_val_loss_count, color='royalblue', label='Internal Validation Loss')\n",
    "    pyplot.title(\"Internal Loss\")\n",
    "    pyplot.xlabel(\"Pretraining Epochs\")\n",
    "    pyplot.ylabel(\"Loss\")\n",
    "    handles, labels = pyplot.gca().get_legend_handles_labels()\n",
    "    by_label = dict(zip(labels, handles))\n",
    "    pyplot.legend(by_label.values(), by_label.keys())\n",
    "    pyplot.grid()\n",
    "    pyplot.show()"
   ]
  },
  {
   "cell_type": "markdown",
   "metadata": {},
   "source": [
    "END >> below section used to pretrain the generator (if needed)"
   ]
  },
  {
   "cell_type": "code",
   "execution_count": null,
   "metadata": {},
   "outputs": [],
   "source": [
    "ddropout=0.5\n",
    "g_criterion = nn.L1Loss()\n",
    "d_criterion = nn.L1Loss()"
   ]
  },
  {
   "cell_type": "code",
   "execution_count": null,
   "metadata": {},
   "outputs": [],
   "source": [
    "class Discriminator(nn.Module):\n",
    "    def __init__(self, vocab_size, embed_size, hidden_size, num_layers, dropout=ddropout):\n",
    "        super(Discriminator, self).__init__()\n",
    "        self.embedding = nn.Embedding(vocab_size, embed_size)\n",
    "        self.rnn = nn.LSTM(embed_size, hidden_size, num_layers, batch_first=True)\n",
    "        self.fc = nn.Linear(hidden_size, 1)\n",
    "        self.dropout = nn.Dropout(dropout)\n",
    "        \n",
    "    def forward(self, x, h):\n",
    "        x = self.embedding(x)\n",
    "        output, h = self.rnn(x, h)\n",
    "        output = output.mean(dim=1)  # Apply mean pooling to the sequence\n",
    "        output = self.fc(self.dropout(output))\n",
    "        output = torch.sigmoid(output)  # Apply sigmoid to get a probability\n",
    "        return output, h"
   ]
  },
  {
   "cell_type": "code",
   "execution_count": null,
   "metadata": {},
   "outputs": [],
   "source": [
    "# Re-importing required libraries and setting up the data for the Discriminator model visualization\n",
    "import networkx as nx\n",
    "\n",
    "# Define nodes and edges for the Discriminator model\n",
    "nodes_discriminator = {\n",
    "    'input': 'Input',\n",
    "    'embedding': 'Embedding Layer',\n",
    "    'lstm': 'LSTM Layer',\n",
    "    'dropout': 'Dropout',\n",
    "    'mean_pooling': 'Mean Pooling',\n",
    "    'fc': 'Fully Connected Layer',\n",
    "    'sigmoid': 'Sigmoid Activation',\n",
    "    'output': 'Output'\n",
    "}\n",
    "\n",
    "edges_discriminator = [('input', 'embedding'),\n",
    "                       ('embedding', 'lstm'),\n",
    "                       ('lstm', 'dropout'),\n",
    "                       ('dropout', 'mean_pooling'),\n",
    "                       ('mean_pooling', 'fc'),\n",
    "                       ('fc', 'sigmoid'),\n",
    "                       ('sigmoid', 'output')]\n",
    "\n",
    "# Create the directed graph for the Discriminator model\n",
    "G_discriminator = nx.DiGraph()\n",
    "G_discriminator.add_nodes_from(nodes_discriminator.keys())\n",
    "G_discriminator.add_edges_from(edges_discriminator)\n",
    "\n",
    "# Draw the network architecture for the Discriminator\n",
    "pos_discriminator = nx.spring_layout(G_discriminator)\n",
    "pyplot.figure(figsize=(18,10))\n",
    "\n",
    "# Draw nodes\n",
    "nx.draw_networkx_nodes(G_discriminator, pos_discriminator, node_color='lightcoral', node_size=3000)\n",
    "\n",
    "# Draw edges\n",
    "nx.draw_networkx_edges(G_discriminator, pos_discriminator)\n",
    "\n",
    "# Draw node labels\n",
    "nx.draw_networkx_labels(G_discriminator, pos_discriminator, labels=nodes_discriminator, font_size=10)\n",
    "\n",
    "pyplot.title(\"Discriminator Model Architecture\")\n",
    "pyplot.axis('off')\n",
    "pyplot.tight_layout()\n",
    "pyplot.show()\n"
   ]
  },
  {
   "cell_type": "code",
   "execution_count": null,
   "metadata": {},
   "outputs": [],
   "source": [
    "internal_tr_gloss_count = []\n",
    "internal_tr_dloss_count = []\n",
    "average_tr_gloss_count = []\n",
    "average_tr_dloss_count = []\n",
    "\n",
    "internal_val_gloss_count = []\n",
    "internal_val_dloss_count = []\n",
    "average_val_gloss_count = []\n",
    "average_val_dloss_count = []\n",
    "\n",
    "# Training function\n",
    "def train_gan(generator, discriminator, osummary_tr, osummary_val, g_optimizer, d_optimizer, train_epochs, \n",
    "              num_layers, hidden_size, batch_size):\n",
    "    osummary_tr = torch.tensor(osummary_tr)\n",
    "    osummary_tr = torch.split(osummary_tr, batch_size, dim=0)\n",
    "    \n",
    "    osummary_val = torch.tensor(osummary_val)\n",
    "    osummary_val = torch.split(osummary_val, batch_size, dim=0)\n",
    "    \n",
    "    best_val_loss = float('inf')\n",
    "    rounds_without_improvement = 0\n",
    "    \n",
    "    for epoch in range(train_epochs):\n",
    "        tstart = time.time()\n",
    "        total_g_loss = 0\n",
    "        total_d_loss = 0\n",
    "        internal_tr_gloss_count.append([])\n",
    "        internal_tr_dloss_count.append([])\n",
    "        generator.train()\n",
    "        discriminator.train()\n",
    "        for plot_tensor in osummary_tr:\n",
    "            plot_tensor = plot_tensor.squeeze()\n",
    "            plot_tensor = plot_tensor.permute(1, 0)\n",
    "            current_batch_size = plot_tensor.size(0)\n",
    "            h_0 = torch.zeros(num_layers, current_batch_size, hidden_size)\n",
    "            c_0 = torch.zeros(num_layers, current_batch_size, hidden_size)\n",
    "            hidden = (h_0, c_0)\n",
    "\n",
    "            d_optimizer.zero_grad()\n",
    "            real_labels = torch.ones(plot_tensor.size(0), 1, dtype=torch.float32)\n",
    "            real_output, _ = discriminator(plot_tensor, hidden)\n",
    "            real_loss = d_criterion(real_output, real_labels)\n",
    "\n",
    "            fake_labels = torch.zeros(plot_tensor.size(0), 1, dtype=torch.float32)\n",
    "            fake_probs = generator(plot_tensor.long(), hidden)[0]\n",
    "            fake_data = torch.multinomial(fake_probs.view(-1, vocab_size), 1)\n",
    "            fake_data = fake_data.view(plot_tensor.size(0), -1)\n",
    "            fake_output, _ = discriminator(fake_data, hidden)\n",
    "            fake_loss = d_criterion(fake_output, fake_labels)\n",
    "            \n",
    "            d_loss = real_loss + fake_loss\n",
    "            d_loss.backward()\n",
    "            d_optimizer.step()\n",
    "            total_d_loss += d_loss.item()\n",
    "            internal_tr_dloss_count[epoch].append(d_loss.item())\n",
    "\n",
    "            # Train the Generator\n",
    "            g_optimizer.zero_grad()\n",
    "            generator_output, _ = generator(plot_tensor.int(), hidden)\n",
    "            generator_output = torch.softmax(generator_output, dim=-1)\n",
    "            fake_data = torch.multinomial(generator_output.view(-1, vocab_size), 1)\n",
    "            fake_data = fake_data.view(plot_tensor.size(0), -1)\n",
    "            fake_output, _ = discriminator(fake_data, hidden)\n",
    "            g_loss = g_criterion(fake_output, real_labels)\n",
    "            g_loss.backward()\n",
    "            g_optimizer.step()\n",
    "            total_g_loss += g_loss.item()\n",
    "            internal_tr_gloss_count[epoch].append(g_loss.item())    \n",
    "        average_tr_g_loss = total_g_loss/len(osummary_tr)\n",
    "        average_tr_d_loss = total_d_loss/len(osummary_tr)\n",
    "        tend = time.time()\n",
    "        print(f\"Training Epoch {epoch + 1}/{train_epochs}, Average-G-Loss: {average_tr_g_loss}, Average-D-Loss: {average_tr_d_loss}, Duration: {tend - tstart}\")\n",
    "        average_tr_gloss_count.append(average_tr_g_loss)\n",
    "        average_tr_dloss_count.append(average_tr_d_loss)\n",
    "        \n",
    "        tstart = time.time()\n",
    "        total_val_g_loss = 0\n",
    "        total_val_d_loss = 0\n",
    "        internal_val_gloss_count.append([])\n",
    "        internal_val_dloss_count.append([])\n",
    "        generator.eval()\n",
    "        discriminator.eval()\n",
    "        with torch.no_grad():  # do not calculate gradients\n",
    "            for plot_tensor in osummary_val:\n",
    "                plot_tensor = plot_tensor.squeeze()\n",
    "                plot_tensor = plot_tensor.permute(1, 0)\n",
    "                current_batch_size = plot_tensor.size(0)\n",
    "                h_0 = torch.zeros(num_layers, current_batch_size, hidden_size)\n",
    "                c_0 = torch.zeros(num_layers, current_batch_size, hidden_size)\n",
    "                hidden = (h_0, c_0)\n",
    "\n",
    "                real_labels = torch.ones(plot_tensor.size(0), 1, dtype=torch.float32)\n",
    "                real_output, _ = discriminator(plot_tensor, hidden)\n",
    "                real_loss = d_criterion(real_output, real_labels)\n",
    "\n",
    "                fake_labels = torch.zeros(plot_tensor.size(0), 1, dtype=torch.float32)\n",
    "                fake_probs = generator(plot_tensor.long(), hidden)[0]\n",
    "                fake_data = torch.multinomial(fake_probs.view(-1, vocab_size), 1)\n",
    "                fake_data = fake_data.view(plot_tensor.size(0), -1)\n",
    "                fake_output, _ = discriminator(fake_data, hidden)\n",
    "                fake_loss = g_criterion(fake_output, fake_labels)\n",
    "                \n",
    "                val_d_loss = real_loss + fake_loss\n",
    "                total_val_d_loss += val_d_loss.item()\n",
    "                internal_val_dloss_count[epoch].append(val_d_loss.item())\n",
    "\n",
    "                generator_output, _ = generator(plot_tensor.int(), hidden)\n",
    "                generator_output = torch.softmax(generator_output, dim=-1)\n",
    "                fake_data = torch.multinomial(generator_output.view(-1, vocab_size), 1)\n",
    "                fake_data = fake_data.view(plot_tensor.size(0), -1)\n",
    "                fake_output, _ = discriminator(fake_data, hidden)\n",
    "                val_g_loss = d_criterion(fake_output, real_labels)\n",
    "                total_val_g_loss += val_g_loss.item()\n",
    "                internal_val_gloss_count[epoch].append(val_g_loss.item())\n",
    "            tend = time.time()\n",
    "            average_val_g_loss = total_val_g_loss/len(osummary_val)\n",
    "            average_val_d_loss = total_val_d_loss/len(osummary_val)\n",
    "            print(f\"Testing Epoch {epoch + 1}/{train_epochs}, Average-G-Loss: {average_val_g_loss}, Average-D-Loss: {average_val_d_loss}, Duration: {tend - tstart}\")\n",
    "            average_val_gloss_count.append(average_val_g_loss)\n",
    "            average_val_dloss_count.append(average_val_d_loss)\n",
    "        \n",
    "        # Early stopping check\n",
    "        if average_val_d_loss < best_val_loss:\n",
    "            best_val_loss = average_val_d_loss\n",
    "            rounds_without_improvement = 0\n",
    "        else:\n",
    "            rounds_without_improvement += 1\n",
    "\n",
    "        if rounds_without_improvement == early_stopping_rounds:\n",
    "            print(\"Early stopping triggered\")\n",
    "            break\n",
    "\n",
    "discriminator = Discriminator(vocab_size, embed_size, hidden_size, num_layers)\n",
    "d_optimizer = optim.Adam(discriminator.parameters(), lr=learning_rate)\n",
    "# Train the GAN\n",
    "train_gan(generator, discriminator, osummary_tr, osummary_val, g_optimizer, d_optimizer, epochs, num_layers, hidden_size, batch_size)"
   ]
  },
  {
   "cell_type": "code",
   "execution_count": null,
   "metadata": {},
   "outputs": [],
   "source": [
    "# counter=0\n",
    "# total=0\n",
    "# for i in internal_tr_gloss_count:\n",
    "#     for j in i:\n",
    "#         total+=j\n",
    "#         counter+=1\n",
    "\n",
    "# print('internal_tr_gloss_count: '+str(total/counter))"
   ]
  },
  {
   "cell_type": "code",
   "execution_count": null,
   "metadata": {},
   "outputs": [],
   "source": [
    "# counter=0\n",
    "# total=0\n",
    "# for i in internal_tr_dloss_count:\n",
    "#     for j in i:\n",
    "#         total+=j\n",
    "#         counter+=1\n",
    "\n",
    "# print('internal_tr_dloss_count: '+str(total/counter))"
   ]
  },
  {
   "cell_type": "code",
   "execution_count": null,
   "metadata": {},
   "outputs": [],
   "source": [
    "counter=0\n",
    "total=0\n",
    "for i in average_tr_gloss_count:\n",
    "    total+=i\n",
    "    counter+=1\n",
    "\n",
    "print('average_tr_gloss_count: '+str(total/counter))"
   ]
  },
  {
   "cell_type": "code",
   "execution_count": null,
   "metadata": {},
   "outputs": [],
   "source": [
    "counter=0\n",
    "total=0\n",
    "for i in average_tr_dloss_count:\n",
    "    total+=i\n",
    "    counter+=1\n",
    "\n",
    "print('average_tr_dloss_count: '+str(total/counter))"
   ]
  },
  {
   "cell_type": "code",
   "execution_count": null,
   "metadata": {},
   "outputs": [],
   "source": [
    "pyplot.figure(figsize=(18,10))\n",
    "pyplot.plot(average_tr_gloss_count, color='orange', label='Average Generator Training Loss')\n",
    "pyplot.plot(average_tr_dloss_count, color='navy', label='Average Discriminator Training Loss')\n",
    "pyplot.title(\"Average Training Loss\")\n",
    "pyplot.xlabel(\"Training Epochs\")\n",
    "pyplot.ylabel(\"Loss\")\n",
    "pyplot.legend()\n",
    "pyplot.grid()\n",
    "pyplot.show()\n",
    "\n",
    "pyplot.figure(figsize=(18,10))\n",
    "pyplot.plot(internal_tr_gloss_count, color='orange', label='Internal Generator Training Loss')\n",
    "pyplot.plot(internal_tr_dloss_count, color='navy', label='Internal Discriminator Validation Loss')\n",
    "pyplot.title(\"Internal Training Loss\")\n",
    "pyplot.xlabel(\"Training Epochs\")\n",
    "pyplot.ylabel(\"Loss\")\n",
    "handles, labels = pyplot.gca().get_legend_handles_labels()\n",
    "by_label = dict(zip(labels, handles))\n",
    "pyplot.legend(by_label.values(), by_label.keys())\n",
    "pyplot.grid()\n",
    "pyplot.show()"
   ]
  },
  {
   "cell_type": "code",
   "execution_count": null,
   "metadata": {},
   "outputs": [],
   "source": [
    "# counter=0\n",
    "# total=0\n",
    "# for i in internal_val_gloss_count:\n",
    "#     for j in i:\n",
    "#         total+=j\n",
    "#         counter+=1\n",
    "\n",
    "# print('internal_val_gloss_count: '+str(total/counter))"
   ]
  },
  {
   "cell_type": "code",
   "execution_count": null,
   "metadata": {},
   "outputs": [],
   "source": [
    "# counter=0\n",
    "# total=0\n",
    "# for i in internal_val_dloss_count:\n",
    "#     for j in i:\n",
    "#         total+=j\n",
    "#         counter+=1\n",
    "\n",
    "# print('internal_val_dloss_count: '+str(total/counter))"
   ]
  },
  {
   "cell_type": "code",
   "execution_count": null,
   "metadata": {},
   "outputs": [],
   "source": [
    "counter=0\n",
    "total=0\n",
    "for i in average_val_gloss_count:\n",
    "    total+=i\n",
    "    counter+=1\n",
    "\n",
    "print('average_val_gloss_count: '+str(total/counter))"
   ]
  },
  {
   "cell_type": "code",
   "execution_count": null,
   "metadata": {},
   "outputs": [],
   "source": [
    "counter=0\n",
    "total=0\n",
    "for i in average_val_dloss_count:\n",
    "    total+=i\n",
    "    counter+=1\n",
    "\n",
    "print('average_val_dloss_count: '+str(total/counter))"
   ]
  },
  {
   "cell_type": "code",
   "execution_count": null,
   "metadata": {},
   "outputs": [],
   "source": [
    "pyplot.figure(figsize=(18,10))\n",
    "pyplot.plot(average_val_gloss_count, color='royalblue', label='Average Generator Testing Loss')\n",
    "pyplot.plot(average_val_dloss_count, color='orange', label='Average Discriminator Testing Loss')\n",
    "pyplot.title(\"Average Validation Loss\")\n",
    "pyplot.xlabel(\"Training Epochs\")\n",
    "pyplot.ylabel(\"Loss\")\n",
    "pyplot.legend()\n",
    "pyplot.grid()\n",
    "pyplot.show()\n",
    "\n",
    "pyplot.figure(figsize=(18,10))\n",
    "pyplot.plot(internal_val_gloss_count, color='royalblue', label='Internal Generator Testing Loss')\n",
    "pyplot.plot(internal_val_dloss_count, color='orange', label='Internal Discriminator Testing Loss')\n",
    "pyplot.title(\"Internal Validation Loss\")\n",
    "pyplot.xlabel(\"Training Epochs\")\n",
    "pyplot.ylabel(\"Loss\")\n",
    "handles, labels = pyplot.gca().get_legend_handles_labels()\n",
    "by_label = dict(zip(labels, handles))\n",
    "pyplot.legend(by_label.values(), by_label.keys())\n",
    "pyplot.grid()\n",
    "pyplot.show()"
   ]
  },
  {
   "cell_type": "code",
   "execution_count": null,
   "metadata": {},
   "outputs": [],
   "source": [
    "def seq2text(input_seq, word_index):\n",
    "    newString=''\n",
    "    for i in input_seq:\n",
    "        try: \n",
    "            newString += word_index[i] + ' '\n",
    "        except:\n",
    "            pass\n",
    "    return newString\n",
    "\n",
    "def generate_summary(input_seq, word_index, generator=generator, num_layers=num_layers, hidden_size=hidden_size):\n",
    "    # Convert input_seq to a Tensor\n",
    "    input_seq = torch.tensor(input_seq).unsqueeze(1)  # Reshape to (seq_len, 1)\n",
    "    input_seq_len=len(input_seq)\n",
    "    # Initialize hidden state\n",
    "    h = (torch.zeros(num_layers, input_seq_len, hidden_size), torch.zeros(num_layers, input_seq_len, hidden_size))\n",
    "    # Generate the sequence of word indices from the generator.\n",
    "    generator_output, _ = generator(input_seq, h)\n",
    "    generator_output = torch.softmax(generator_output, dim=-1)\n",
    "    # Reshape generator_output to be 2D\n",
    "    generator_output = generator_output.view(-1, generator_output.size(-1))\n",
    "    indices = torch.multinomial(generator_output, 1)\n",
    "    # Reshape indices to match the original shape\n",
    "    indices = indices.view(input_seq.size(0), input_seq.size(1))\n",
    "    # Convert the sequence of word indices to actual words.\n",
    "    summary = seq2text(indices.numpy().ravel(), word_index)  # Convert indices tensor to numpy array\n",
    "    return summary"
   ]
  },
  {
   "cell_type": "code",
   "execution_count": null,
   "metadata": {},
   "outputs": [],
   "source": [
    "if os.path.exists(file_path+'df_generator_discriminator_output.csv'):\n",
    "    os.remove(file_path+'df_generator_discriminator_output.csv')\n",
    "\n",
    "new_row1 = {'type':'type','plot':'plot', 'original_summary':'original_summary', 'predicted_summary':'predicted_summary', 'generated_original_summary':'generated_original_summary', 'generated_predicted_summary':'generated_predicted_summary'}\n",
    "df_generator_discriminator_output = pd.DataFrame(None)\n",
    "df_generator_discriminator_output = pd.concat([df_generator_discriminator_output, pd.DataFrame([new_row1])], ignore_index=True)\n",
    "\n",
    "for i in range(len(var_type)):\n",
    "    type = var_type[i]\n",
    "    plot = seq2text(plot_tokens[i], reverse_plot_tokens_word_index)\n",
    "    original_summary = seq2text(osummary_tokens[i], reverse_osummary_tokens_word_index)\n",
    "    predicted_summary = seq2text(psummary_tokens[i], reverse_psummary_tokens_word_index)\n",
    "    generated_original_summary = generate_summary(osummary_tokens[i], reverse_plot_tokens_word_index)\n",
    "    generated_predicted_summary = generate_summary(psummary_tokens[i], reverse_plot_tokens_word_index)\n",
    "    plot_tokens_word_index\n",
    "    new_row = {'type':type,'plot':plot, \n",
    "               'original_summary':original_summary, 'predicted_summary':predicted_summary, \n",
    "               'generated_original_summary':generated_original_summary, 'generated_predicted_summary':generated_predicted_summary}\n",
    "    df_generator_discriminator_output = pd.concat([df_generator_discriminator_output, pd.DataFrame([new_row])], ignore_index=True)\n",
    "    \n",
    "df_generator_discriminator_output.to_csv(file_path+'df_generator_discriminator_output.csv', mode='a', index = False, header=False)"
   ]
  },
  {
   "cell_type": "code",
   "execution_count": null,
   "metadata": {},
   "outputs": [],
   "source": [
    "df = pd.read_csv(file_path+'df_generator_discriminator_output.csv')"
   ]
  },
  {
   "cell_type": "markdown",
   "metadata": {},
   "source": [
    "BLEU scoring"
   ]
  },
  {
   "cell_type": "code",
   "execution_count": null,
   "metadata": {},
   "outputs": [],
   "source": [
    "from nltk.translate.bleu_score import sentence_bleu, SmoothingFunction\n",
    "\n",
    "# Function to calculate BLEU score for a single row\n",
    "def calculate_bleu(row):\n",
    "    try:\n",
    "        reference_tokens = str(row['original_summary']).split()\n",
    "        generated_tokens = str(row['generated_original_summary']).split()\n",
    "        smoothing = SmoothingFunction().method1  # You can choose a different method if you prefer\n",
    "        return sentence_bleu([reference_tokens], generated_tokens, smoothing_function=smoothing)\n",
    "    except Exception:\n",
    "        return 0\n",
    "\n",
    "# Calculate BLEU scores\n",
    "df['bleu_score'] = df.apply(calculate_bleu, axis=1)\n",
    "\n",
    "# Print the average BLEU score\n",
    "o_average_bleu_score = df['bleu_score'].mean()\n",
    "print(\"Average generated_original_summary BLEU score:\", o_average_bleu_score)\n"
   ]
  },
  {
   "cell_type": "code",
   "execution_count": null,
   "metadata": {},
   "outputs": [],
   "source": [
    "from nltk.translate.bleu_score import sentence_bleu, SmoothingFunction\n",
    "\n",
    "# Function to calculate BLEU score for a single row\n",
    "def calculate_bleu(row):\n",
    "    try:\n",
    "        reference_tokens = str(row['original_summary']).split()\n",
    "        generated_tokens = str(row['generated_predicted_summary']).split()\n",
    "        smoothing = SmoothingFunction().method1  # You can choose a different method if you prefer\n",
    "        return sentence_bleu([reference_tokens], generated_tokens, smoothing_function=smoothing)\n",
    "    except Exception:\n",
    "        return 0\n",
    "\n",
    "# Calculate BLEU scores\n",
    "df['bleu_score'] = df.apply(calculate_bleu, axis=1)\n",
    "\n",
    "# Print the average BLEU score\n",
    "p_average_bleu_score = df['bleu_score'].mean()\n",
    "print(\"Average generated_predicted_summary BLEU score:\", p_average_bleu_score)\n"
   ]
  },
  {
   "cell_type": "code",
   "execution_count": null,
   "metadata": {},
   "outputs": [],
   "source": [
    "(o_average_bleu_score+p_average_bleu_score)/2"
   ]
  },
  {
   "cell_type": "markdown",
   "metadata": {},
   "source": [
    "WER scoring"
   ]
  },
  {
   "cell_type": "code",
   "execution_count": null,
   "metadata": {},
   "outputs": [],
   "source": [
    "import nltk\n",
    "\n",
    "# Function to calculate WER for a single row\n",
    "def calculate_wer(row):\n",
    "    try:\n",
    "        reference_tokens = str(row['original_summary']).split()\n",
    "        generated_tokens = str(row['generated_original_summary']).split()\n",
    "        distance = nltk.edit_distance(reference_tokens, generated_tokens)\n",
    "        if len(reference_tokens) > 0:\n",
    "            return distance / len(reference_tokens)\n",
    "        else:\n",
    "            return 0\n",
    "    except Exception:\n",
    "        return 0\n",
    "\n",
    "# Calculate WER scores\n",
    "df['wer_score'] = df.apply(calculate_wer, axis=1)\n",
    "\n",
    "# Print the average WER score\n",
    "o_average_wer_score = mode(df['wer_score'])\n",
    "print(\"Average generated_original_summary WER score:\", o_average_wer_score)\n"
   ]
  },
  {
   "cell_type": "code",
   "execution_count": null,
   "metadata": {},
   "outputs": [],
   "source": [
    "import nltk\n",
    "\n",
    "# Function to calculate WER for a single row\n",
    "def calculate_wer(row):\n",
    "    try:\n",
    "        reference_tokens = str(row['original_summary']).split()\n",
    "        generated_tokens = str(row['generated_predicted_summary']).split()\n",
    "        distance = nltk.edit_distance(reference_tokens, generated_tokens)\n",
    "        if len(reference_tokens) > 0:\n",
    "            return distance / len(reference_tokens)\n",
    "        else:\n",
    "            return 0\n",
    "    except Exception:\n",
    "        return 0\n",
    "\n",
    "# Calculate WER scores\n",
    "df['wer_score'] = df.apply(calculate_wer, axis=1)\n",
    "\n",
    "# Print the average WER score\n",
    "p_average_wer_score = df['wer_score'].mean()\n",
    "print(\"Average generated_predicted_summary WER score:\", p_average_wer_score)\n"
   ]
  },
  {
   "cell_type": "code",
   "execution_count": null,
   "metadata": {},
   "outputs": [],
   "source": [
    "(o_average_wer_score+p_average_wer_score)/2"
   ]
  },
  {
   "cell_type": "markdown",
   "metadata": {},
   "source": [
    "ROUGE scoring"
   ]
  },
  {
   "cell_type": "code",
   "execution_count": null,
   "metadata": {},
   "outputs": [],
   "source": [
    "\n",
    "from rouge_score import rouge_scorer\n",
    "\n",
    "# Initialize RougeScorer\n",
    "scorer = rouge_scorer.RougeScorer(['rouge1', 'rouge2', 'rougeL'], use_stemmer=True)\n",
    "\n",
    "# Initialize score accumulators\n",
    "rouge1_precision, rouge1_recall, rouge1_fmeasure = [], [], []\n",
    "rouge2_precision, rouge2_recall, rouge2_fmeasure = [], [], []\n",
    "rougeL_precision, rougeL_recall, rougeL_fmeasure = [], [], []\n",
    "\n",
    "# Calculate ROUGE scores\n",
    "for i in range(len(df)):\n",
    "    reference = str(df['original_summary'][i])\n",
    "    generated = str(df['generated_original_summary'][i])\n",
    "    # Calculate ROUGE scores\n",
    "    scores = scorer.score(reference, generated)\n",
    "    \n",
    "    rouge1_precision.append(scores['rouge1'].precision)\n",
    "    rouge1_recall.append(scores['rouge1'].recall)\n",
    "    rouge1_fmeasure.append(scores['rouge1'].fmeasure)\n",
    "    \n",
    "    rouge2_precision.append(scores['rouge2'].precision)\n",
    "    rouge2_recall.append(scores['rouge2'].recall)\n",
    "    rouge2_fmeasure.append(scores['rouge2'].fmeasure)\n",
    "    \n",
    "    rougeL_precision.append(scores['rougeL'].precision)\n",
    "    rougeL_recall.append(scores['rougeL'].recall)\n",
    "    rougeL_fmeasure.append(scores['rougeL'].fmeasure)\n",
    "\n",
    "# Calculate average scores\n",
    "def calculate_average(scores):\n",
    "    return sum(scores) / len(scores) if len(scores) > 0 else 0\n",
    "\n",
    "\n",
    "o_rouge1_precision = calculate_average(rouge1_precision)\n",
    "o_rouge1_recall = calculate_average(rouge1_recall)\n",
    "o_rouge1_fmeasure = calculate_average(rouge1_fmeasure)\n",
    "print(\"Average o_rouge1_precision ROUGE-1 precision:\", o_rouge1_precision)\n",
    "print(\"Average o_rouge1_recall ROUGE-1 recall:\", o_rouge1_recall)\n",
    "print(\"Average o_rouge1_fmeasure ROUGE-1 f-measure:\", o_rouge1_fmeasure)\n",
    "\n",
    "o_rouge2_precision = calculate_average(rouge2_precision)\n",
    "o_rouge2_recall = calculate_average(rouge2_recall)\n",
    "o_rouge2_fmeasure = calculate_average(rouge2_fmeasure)\n",
    "print(\"Average o_rouge2_precision ROUGE-2 precision:\", o_rouge2_precision)\n",
    "print(\"Average o_rouge2_recall ROUGE-2 recall:\", o_rouge2_recall)\n",
    "print(\"Average o_rouge2_fmeasure ROUGE-2 f-measure:\", o_rouge2_fmeasure)\n",
    "\n",
    "o_rougeL_precision = calculate_average(rougeL_precision)\n",
    "o_rougeL_recall = calculate_average(rougeL_recall)\n",
    "o_rougeL_fmeasure = calculate_average(rougeL_fmeasure)\n",
    "print(\"Average o_rougeL_precision ROUGE-L precision:\", o_rougeL_precision)\n",
    "print(\"Average o_rougeL_recall ROUGE-L recall:\", o_rougeL_recall)\n",
    "print(\"Average o_rougeL_fmeasure ROUGE-L f-measure:\", o_rougeL_fmeasure)\n"
   ]
  },
  {
   "cell_type": "code",
   "execution_count": null,
   "metadata": {},
   "outputs": [],
   "source": [
    "from rouge_score import rouge_scorer\n",
    "\n",
    "# Initialize RougeScorer\n",
    "scorer = rouge_scorer.RougeScorer(['rouge1', 'rouge2', 'rougeL'], use_stemmer=True)\n",
    "\n",
    "# Initialize score accumulators\n",
    "rouge1_precision, rouge1_recall, rouge1_fmeasure = [], [], []\n",
    "rouge2_precision, rouge2_recall, rouge2_fmeasure = [], [], []\n",
    "rougeL_precision, rougeL_recall, rougeL_fmeasure = [], [], []\n",
    "\n",
    "# Calculate ROUGE scores\n",
    "for i in range(len(df)):\n",
    "    reference = str(df['original_summary'][i])\n",
    "    generated = str(df['generated_predicted_summary'][i])\n",
    "    # Calculate ROUGE scores\n",
    "    scores = scorer.score(reference, generated)\n",
    "    \n",
    "    rouge1_precision.append(scores['rouge1'].precision)\n",
    "    rouge1_recall.append(scores['rouge1'].recall)\n",
    "    rouge1_fmeasure.append(scores['rouge1'].fmeasure)\n",
    "    \n",
    "    rouge2_precision.append(scores['rouge2'].precision)\n",
    "    rouge2_recall.append(scores['rouge2'].recall)\n",
    "    rouge2_fmeasure.append(scores['rouge2'].fmeasure)\n",
    "    \n",
    "    rougeL_precision.append(scores['rougeL'].precision)\n",
    "    rougeL_recall.append(scores['rougeL'].recall)\n",
    "    rougeL_fmeasure.append(scores['rougeL'].fmeasure)\n",
    "\n",
    "# Calculate average scores\n",
    "def calculate_average(scores):\n",
    "    return sum(scores) / len(scores) if len(scores) > 0 else 0\n",
    "\n",
    "p_rouge1_precision = calculate_average(rouge1_precision)\n",
    "p_rouge1_recall = calculate_average(rouge1_recall)\n",
    "p_rouge1_fmeasure = calculate_average(rouge1_fmeasure)\n",
    "print(\"Average p_rouge1_precision ROUGE-1 precision:\", p_rouge1_precision)\n",
    "print(\"Average p_rouge1_recall ROUGE-1 recall:\", p_rouge1_recall)\n",
    "print(\"Average p_rouge1_fmeasure ROUGE-1 f-measure:\", p_rouge1_fmeasure)\n",
    "\n",
    "p_rouge2_precision = calculate_average(rouge2_precision)\n",
    "p_rouge2_recall = calculate_average(rouge2_recall)\n",
    "p_rouge2_fmeasure = calculate_average(rouge2_fmeasure)\n",
    "print(\"Average p_rouge2_precision ROUGE-2 precision:\", p_rouge2_precision)\n",
    "print(\"Average p_rouge2_recall ROUGE-2 recall:\", p_rouge2_recall)\n",
    "print(\"Average p_rouge2_fmeasure ROUGE-2 f-measure:\", p_rouge2_fmeasure)\n",
    "\n",
    "p_rougeL_precision = calculate_average(rougeL_precision)\n",
    "p_rougeL_recall = calculate_average(rougeL_recall)\n",
    "p_rougeL_fmeasure = calculate_average(rougeL_fmeasure)\n",
    "print(\"Average p_rougeL_precision ROUGE-L precision:\", p_rougeL_precision)\n",
    "print(\"Average p_rougeL_recall ROUGE-L recall:\", p_rougeL_recall)\n",
    "print(\"Average p_rougeL_fmeasure ROUGE-L f-measure:\", p_rougeL_fmeasure)\n"
   ]
  },
  {
   "cell_type": "code",
   "execution_count": null,
   "metadata": {},
   "outputs": [],
   "source": [
    "(o_rouge1_precision+p_rouge1_precision)/2"
   ]
  },
  {
   "cell_type": "code",
   "execution_count": null,
   "metadata": {},
   "outputs": [],
   "source": [
    "(o_rouge1_recall+p_rouge1_recall)/2"
   ]
  },
  {
   "cell_type": "code",
   "execution_count": null,
   "metadata": {},
   "outputs": [],
   "source": [
    "(o_rouge1_fmeasure+p_rouge1_fmeasure)/2"
   ]
  },
  {
   "cell_type": "code",
   "execution_count": null,
   "metadata": {},
   "outputs": [],
   "source": [
    "(o_rouge2_precision+p_rouge2_precision)/2"
   ]
  },
  {
   "cell_type": "code",
   "execution_count": null,
   "metadata": {},
   "outputs": [],
   "source": [
    "(o_rouge2_recall+p_rouge2_recall)/2"
   ]
  },
  {
   "cell_type": "code",
   "execution_count": null,
   "metadata": {},
   "outputs": [],
   "source": [
    "(o_rouge2_fmeasure+p_rouge2_fmeasure)/2"
   ]
  },
  {
   "cell_type": "code",
   "execution_count": null,
   "metadata": {},
   "outputs": [],
   "source": [
    "(o_rougeL_precision+p_rougeL_precision)/2"
   ]
  },
  {
   "cell_type": "code",
   "execution_count": null,
   "metadata": {},
   "outputs": [],
   "source": [
    "(o_rougeL_recall+p_rougeL_recall)/2"
   ]
  },
  {
   "cell_type": "code",
   "execution_count": null,
   "metadata": {},
   "outputs": [],
   "source": [
    "(o_rougeL_fmeasure+p_rougeL_fmeasure)/2"
   ]
  },
  {
   "cell_type": "markdown",
   "metadata": {},
   "source": [
    "METEOR score"
   ]
  },
  {
   "cell_type": "code",
   "execution_count": null,
   "metadata": {},
   "outputs": [],
   "source": [
    "from nltk.translate import meteor_score\n",
    "\n",
    "# Function to calculate METEOR score for a single row\n",
    "def calculate_meteor(row):\n",
    "    try:\n",
    "        reference = str(row['original_summary']).lower().split()\n",
    "        generated = str(row['generated_original_summary']).lower().split()\n",
    "        return meteor_score.single_meteor_score(reference, generated)\n",
    "    except Exception as e:\n",
    "        print(f\"Error: {e}\")\n",
    "        return 0\n",
    "\n",
    "# Calculate METEOR scores\n",
    "df['meteor_score'] = df.apply(calculate_meteor, axis=1)\n",
    "\n",
    "# Print the average METEOR score\n",
    "o_average_meteor_score = df['meteor_score'].mean()\n",
    "print(\"Average generated_original_summary METEOR score:\", o_average_meteor_score)\n"
   ]
  },
  {
   "cell_type": "code",
   "execution_count": null,
   "metadata": {},
   "outputs": [],
   "source": [
    "from nltk.translate import meteor_score\n",
    "\n",
    "# Function to calculate METEOR score for a single row\n",
    "def calculate_meteor(row):\n",
    "    try:\n",
    "        reference = str(row['original_summary']).lower().split()\n",
    "        generated = str(row['generated_predicted_summary']).lower().split()\n",
    "        return meteor_score.single_meteor_score(reference, generated)\n",
    "    except Exception as e:\n",
    "        print(f\"Error: {e}\")\n",
    "        return 0\n",
    "\n",
    "# Calculate METEOR scores\n",
    "df['meteor_score'] = df.apply(calculate_meteor, axis=1)\n",
    "\n",
    "# Print the average METEOR score\n",
    "p_average_meteor_score = df['meteor_score'].mean()\n",
    "print(\"Average generated_predicted_summary METEOR score:\", p_average_meteor_score)\n"
   ]
  },
  {
   "cell_type": "code",
   "execution_count": null,
   "metadata": {},
   "outputs": [],
   "source": [
    "(o_average_meteor_score+p_average_meteor_score)/2"
   ]
  },
  {
   "cell_type": "markdown",
   "metadata": {},
   "source": [
    "Perplexity"
   ]
  },
  {
   "cell_type": "code",
   "execution_count": null,
   "metadata": {},
   "outputs": [],
   "source": [
    "from nltk.lm import MLE\n",
    "from nltk.lm.preprocessing import padded_everygram_pipeline\n",
    "\n",
    "def calculate_perplexity(test_data, n=10):\n",
    "    # Tokenize test data\n",
    "    tokenized_test_data = [list(map(str.lower, word_tokenize(sent))) for sent in test_data]\n",
    "\n",
    "    # Create training data and vocabulary\n",
    "    train_data, vocabulary = padded_everygram_pipeline(n, tokenized_test_data)\n",
    "\n",
    "    # Train the language model\n",
    "    model = MLE(n)\n",
    "    model.fit(train_data, vocabulary)\n",
    "\n",
    "    # Calculate perplexity\n",
    "    perplexity = model.perplexity(tokenized_test_data)\n",
    "\n",
    "    return perplexity\n",
    "\n",
    "test_data = []\n",
    "for i in range(len(df)):\n",
    "    generated = str(df['generated_original_summary'][i])\n",
    "    test_data.append(generated)\n",
    "\n",
    "perplexity = calculate_perplexity(test_data)\n",
    "print(f\"Perplexity generated_original_summary: {perplexity:.4f}\")\n",
    "print(f\"Probability of correct prediction generated_original_summary: {1/perplexity:.4f}\")"
   ]
  },
  {
   "cell_type": "code",
   "execution_count": null,
   "metadata": {},
   "outputs": [],
   "source": [
    "from nltk.lm import MLE\n",
    "from nltk.lm.preprocessing import padded_everygram_pipeline\n",
    "\n",
    "def calculate_perplexity(test_data, n=10):\n",
    "    # Tokenize test data\n",
    "    tokenized_test_data = [list(map(str.lower, word_tokenize(sent))) for sent in test_data]\n",
    "\n",
    "    # Create training data and vocabulary\n",
    "    train_data, vocabulary = padded_everygram_pipeline(n, tokenized_test_data)\n",
    "\n",
    "    # Train the language model\n",
    "    model = MLE(n)\n",
    "    model.fit(train_data, vocabulary)\n",
    "\n",
    "    # Calculate perplexity\n",
    "    perplexity = model.perplexity(tokenized_test_data)\n",
    "\n",
    "    return perplexity\n",
    "\n",
    "test_data = []\n",
    "for i in range(len(df)):\n",
    "    generated = str(df['generated_predicted_summary'][i])\n",
    "    test_data.append(generated)\n",
    "\n",
    "perplexity = calculate_perplexity(test_data)\n",
    "print(f\"Perplexity generated_predicted_summary: {perplexity:.4f}\")\n",
    "print(f\"Probability of correct prediction generated_predicted_summary: {1/perplexity:.4f}\")"
   ]
  },
  {
   "cell_type": "code",
   "execution_count": null,
   "metadata": {},
   "outputs": [],
   "source": [
    "# Define nodes for the Generator and Discriminator models again\n",
    "nodes_generator = {\n",
    "    'input_gen': 'Input (Generator)',\n",
    "    'embedding_gen': 'Embedding Layer (Generator)',\n",
    "    'lstm_gen': 'LSTM Layer (Generator)',\n",
    "    'dropout_gen': 'Dropout (Generator)',\n",
    "    'fc_gen': 'Fully Connected Layer (Generator)',\n",
    "    'sigmoid_gen': 'Sigmoid Activation (Generator)',\n",
    "    'output_gen': 'Output (Generator)'\n",
    "}\n",
    "\n",
    "nodes_discriminator = {\n",
    "    'input_disc': 'Input (Discriminator)',\n",
    "    'embedding_disc': 'Embedding Layer (Discriminator)',\n",
    "    'lstm_disc': 'LSTM Layer (Discriminator)',\n",
    "    'dropout_disc': 'Dropout (Discriminator)',\n",
    "    'mean_pooling_disc': 'Mean Pooling (Discriminator)',\n",
    "    'fc_disc': 'Fully Connected Layer (Discriminator)',\n",
    "    'sigmoid_disc': 'Sigmoid Activation (Discriminator)',\n",
    "    'output_disc': 'Output (Discriminator)'\n",
    "}\n",
    "\n",
    "# Define the edges for the Generator and Discriminator models\n",
    "edges_generator = [\n",
    "    ('input_gen', 'embedding_gen'),\n",
    "    ('embedding_gen', 'lstm_gen'),\n",
    "    ('lstm_gen', 'dropout_gen'),\n",
    "    ('dropout_gen', 'fc_gen'),\n",
    "    ('fc_gen', 'sigmoid_gen'),\n",
    "    ('sigmoid_gen', 'output_gen')\n",
    "]\n",
    "\n",
    "edges_discriminator = [\n",
    "    ('input_disc', 'embedding_disc'),\n",
    "    ('embedding_disc', 'lstm_disc'),\n",
    "    ('lstm_disc', 'dropout_disc'),\n",
    "    ('dropout_disc', 'mean_pooling_disc'),\n",
    "    ('mean_pooling_disc', 'fc_disc'),\n",
    "    ('fc_disc', 'sigmoid_disc'),\n",
    "    ('sigmoid_disc', 'output_disc')\n",
    "]\n",
    "\n",
    "# Create the directed graph combining the Generator and Discriminator models\n",
    "G_combined = nx.DiGraph()\n",
    "G_combined.add_nodes_from({**nodes_generator, **nodes_discriminator}.keys())\n",
    "G_combined.add_edges_from(edges_generator + edges_discriminator)\n",
    "\n",
    "# Draw the combined network architecture\n",
    "pos_combined = nx.spring_layout(G_combined, seed=42)\n",
    "\n",
    "# Define the additional edge from the Generator's output to the Discriminator's input\n",
    "edges_combined = [('output_gen', 'input_disc')]\n",
    "\n",
    "# Add the edge to the combined graph\n",
    "G_combined.add_edges_from(edges_combined)\n",
    "\n",
    "# Define a circular layout for the combined architecture\n",
    "pos_circular = nx.circular_layout(G_combined)\n",
    "\n",
    "# Draw the updated combined network architecture with the circular layout\n",
    "pyplot.figure(figsize=(18,10))\n",
    "\n",
    "# Draw nodes for the Generator in blue and the Discriminator in red\n",
    "nx.draw_networkx_nodes(G_combined, pos_circular, nodelist=nodes_generator.keys(), node_color='skyblue', node_size=3000)\n",
    "nx.draw_networkx_nodes(G_combined, pos_circular, nodelist=nodes_discriminator.keys(), node_color='lightcoral', node_size=3000)\n",
    "\n",
    "# Draw edges\n",
    "nx.draw_networkx_edges(G_combined, pos_circular, edge_color='grey')\n",
    "\n",
    "# Draw node labels\n",
    "nx.draw_networkx_labels(G_combined, pos_circular, labels={**nodes_generator, **nodes_discriminator}, font_size=9)\n",
    "\n",
    "pyplot.title(\"Connected Generator and Discriminator Model Architecture\")\n",
    "pyplot.axis('off')\n",
    "pyplot.tight_layout()\n",
    "pyplot.show()\n",
    "\n"
   ]
  }
 ],
 "metadata": {
  "kernelspec": {
   "display_name": "Python 3",
   "language": "python",
   "name": "python3"
  },
  "language_info": {
   "codemirror_mode": {
    "name": "ipython",
    "version": 3
   },
   "file_extension": ".py",
   "mimetype": "text/x-python",
   "name": "python",
   "nbconvert_exporter": "python",
   "pygments_lexer": "ipython3",
   "version": "3.11.5"
  },
  "orig_nbformat": 4
 },
 "nbformat": 4,
 "nbformat_minor": 2
}
